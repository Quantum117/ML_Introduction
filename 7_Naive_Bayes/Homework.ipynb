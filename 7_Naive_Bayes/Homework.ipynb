{
 "cells": [
  {
   "cell_type": "code",
   "id": "initial_id",
   "metadata": {
    "collapsed": true,
    "ExecuteTime": {
     "end_time": "2025-07-18T15:04:19.691051Z",
     "start_time": "2025-07-18T15:04:19.685911Z"
    }
   },
   "source": [
    "import pandas as pd\n",
    "import numpy as np\n",
    "import requests"
   ],
   "outputs": [],
   "execution_count": 30
  },
  {
   "metadata": {
    "ExecuteTime": {
     "end_time": "2025-07-18T14:46:37.508757Z",
     "start_time": "2025-07-18T14:46:37.010404Z"
    }
   },
   "cell_type": "code",
   "source": [
    "url = 'https://raw.githubusercontent.com/justmarkham/pycon-2016-tutorial/master/data/sms.tsv'\n",
    "response = requests.get(url)"
   ],
   "id": "25fd305e546444b4",
   "outputs": [],
   "execution_count": 3
  },
  {
   "metadata": {
    "ExecuteTime": {
     "end_time": "2025-07-18T14:53:28.653741Z",
     "start_time": "2025-07-18T14:53:28.641714Z"
    }
   },
   "cell_type": "code",
   "source": [
    "messages = response.content.decode('utf-8') # with decode() response will be in str format otherwise it will be bytes\n",
    "print(type(messages))"
   ],
   "id": "9e36760688483482",
   "outputs": [
    {
     "name": "stdout",
     "output_type": "stream",
     "text": [
      "<class 'str'>\n"
     ]
    }
   ],
   "execution_count": 18
  },
  {
   "metadata": {
    "ExecuteTime": {
     "end_time": "2025-07-18T14:58:45.197592Z",
     "start_time": "2025-07-18T14:58:45.177592Z"
    }
   },
   "cell_type": "code",
   "source": [
    "lines = messages.split('\\n')\n",
    "data = []\n",
    "for line in lines:\n",
    "    data.append(line.split('\\t')) # split() method returns a list"
   ],
   "id": "694c012927bd2a7a",
   "outputs": [],
   "execution_count": 25
  },
  {
   "metadata": {
    "ExecuteTime": {
     "end_time": "2025-07-18T15:01:07.291381Z",
     "start_time": "2025-07-18T15:01:05.591979Z"
    }
   },
   "cell_type": "code",
   "source": "from sklearn.feature_extraction.text import CountVectorizer",
   "id": "7d01e9f368c73f0e",
   "outputs": [],
   "execution_count": 27
  },
  {
   "metadata": {
    "ExecuteTime": {
     "end_time": "2025-07-18T15:02:06.263650Z",
     "start_time": "2025-07-18T15:02:06.255652Z"
    }
   },
   "cell_type": "code",
   "source": "vectorizer = CountVectorizer(binary=True)",
   "id": "6a7b2c2d505bc866",
   "outputs": [],
   "execution_count": 28
  },
  {
   "metadata": {
    "ExecuteTime": {
     "end_time": "2025-07-18T15:07:04.423518Z",
     "start_time": "2025-07-18T15:07:04.404352Z"
    }
   },
   "cell_type": "code",
   "source": [
    "df = pd.DataFrame(data)\n",
    "df = df.replace({'spam':1, 'ham':0})\n",
    "df.columns = ['label', 'message']"
   ],
   "id": "be6cbf8c255ac7c",
   "outputs": [],
   "execution_count": 35
  },
  {
   "metadata": {
    "ExecuteTime": {
     "end_time": "2025-07-18T15:09:43.051059Z",
     "start_time": "2025-07-18T15:09:43.035063Z"
    }
   },
   "cell_type": "code",
   "source": [
    "print(len(df))\n",
    "# Drop rows with missing messages\n",
    "df = df.dropna(subset=['message'])\n",
    "print(len(df))"
   ],
   "id": "42ad3f58f17c3dab",
   "outputs": [
    {
     "name": "stdout",
     "output_type": "stream",
     "text": [
      "5575\n",
      "5574\n"
     ]
    }
   ],
   "execution_count": 39
  },
  {
   "metadata": {
    "ExecuteTime": {
     "end_time": "2025-07-18T15:07:48.746787Z",
     "start_time": "2025-07-18T15:07:48.591264Z"
    }
   },
   "cell_type": "code",
   "source": [
    "from sklearn.feature_extraction.text import CountVectorizer\n",
    "from sklearn.model_selection import train_test_split\n",
    "from sklearn.naive_bayes import BernoulliNB\n",
    "from sklearn.metrics import accuracy_score, confusion_matrix"
   ],
   "id": "9647daa9c14682ca",
   "outputs": [],
   "execution_count": 37
  },
  {
   "metadata": {
    "ExecuteTime": {
     "end_time": "2025-07-18T15:10:56.219380Z",
     "start_time": "2025-07-18T15:10:56.038445Z"
    }
   },
   "cell_type": "code",
   "source": [
    "\n",
    "\n",
    "vectorizer = CountVectorizer(binary=True)\n",
    "X = vectorizer.fit_transform(df['message'])\n",
    "\n",
    "y = df['label'].astype(int)\n",
    "\n",
    "\n",
    "X_train, X_test, y_train, y_test = train_test_split(X, y, test_size=0.3, random_state=42)\n",
    "\n",
    "\n",
    "bnb = BernoulliNB()\n",
    "bnb.fit(X_train, y_train)\n",
    "\n",
    "\n",
    "y_pred = bnb.predict(X_test)\n",
    "\n",
    "\n",
    "accuracy = accuracy_score(y_test, y_pred)\n",
    "print(f\"Accuracy: {accuracy:.4f}\")\n",
    "\n",
    "\n",
    "conf_matrix = confusion_matrix(y_test, y_pred)\n",
    "print(\"Confusion Matrix:\")\n",
    "print(conf_matrix)"
   ],
   "id": "1b56c0de02b4ddc0",
   "outputs": [
    {
     "name": "stdout",
     "output_type": "stream",
     "text": [
      "Accuracy: 0.9815\n",
      "Confusion Matrix:\n",
      "[[1445    2]\n",
      " [  29  197]]\n"
     ]
    }
   ],
   "execution_count": 41
  },
  {
   "metadata": {
    "ExecuteTime": {
     "end_time": "2025-07-18T16:09:03.163771Z",
     "start_time": "2025-07-18T16:09:03.153674Z"
    }
   },
   "cell_type": "code",
   "source": [
    "m = \"Earn $500/day from home! No experience needed. Reply YES!\"\n",
    "m1 = vectorizer.transform([m])\n",
    "pred = bnb.predict(m1)\n",
    "print(pred)"
   ],
   "id": "b33d6cda88a4faef",
   "outputs": [
    {
     "name": "stdout",
     "output_type": "stream",
     "text": [
      "[0]\n"
     ]
    }
   ],
   "execution_count": 45
  },
  {
   "metadata": {
    "ExecuteTime": {
     "end_time": "2025-07-18T16:10:37.615510Z",
     "start_time": "2025-07-18T16:10:37.604430Z"
    }
   },
   "cell_type": "code",
   "source": "X",
   "id": "a7029908bf83624",
   "outputs": [
    {
     "data": {
      "text/plain": [
       "<Compressed Sparse Row sparse matrix of dtype 'int64'\n",
       "\twith 74169 stored elements and shape (5574, 8713)>"
      ]
     },
     "execution_count": 46,
     "metadata": {},
     "output_type": "execute_result"
    }
   ],
   "execution_count": 46
  }
 ],
 "metadata": {
  "kernelspec": {
   "display_name": "Python 3",
   "language": "python",
   "name": "python3"
  },
  "language_info": {
   "codemirror_mode": {
    "name": "ipython",
    "version": 2
   },
   "file_extension": ".py",
   "mimetype": "text/x-python",
   "name": "python",
   "nbconvert_exporter": "python",
   "pygments_lexer": "ipython2",
   "version": "2.7.6"
  }
 },
 "nbformat": 4,
 "nbformat_minor": 5
}
