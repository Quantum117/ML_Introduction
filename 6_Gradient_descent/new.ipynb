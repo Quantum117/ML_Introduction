{
 "cells": [
  {
   "metadata": {
    "ExecuteTime": {
     "end_time": "2025-06-24T13:42:21.684544Z",
     "start_time": "2025-06-24T13:42:21.677693Z"
    }
   },
   "cell_type": "code",
   "source": "import numpy as np",
   "id": "74b6246ef6f0f765",
   "outputs": [],
   "execution_count": 1
  },
  {
   "metadata": {
    "ExecuteTime": {
     "end_time": "2025-06-24T13:42:22.372473Z",
     "start_time": "2025-06-24T13:42:21.709020Z"
    }
   },
   "cell_type": "code",
   "source": [
    "import numpy as np\n",
    "\n",
    "\n",
    "class GradientDescend:\n",
    "    def __init__(self, lr, max_iter, tol):\n",
    "        self.lr = lr\n",
    "        self.max_iter = max_iter\n",
    "        self.tol = tol\n",
    "        self.coef_ = None\n",
    "        self.intercept_ = None\n",
    "\n",
    "    def fit(self, X, y):\n",
    "        X = np.array(X)\n",
    "        y = np.array(y)\n",
    "        n = X.shape[0]\n",
    "        # Add column of  ones  as first column\n",
    "        X = np.c_[np.ones(n), X]\n",
    "\n",
    "        n_features = X.shape[1]\n",
    "\n",
    "        # 1. Initialize coefficients randomly\n",
    "        coef = np.random.randn(n_features)\n",
    "        convergence = False\n",
    "        prev_loss = float('inf')\n",
    "        for i in range(self.max_iter):\n",
    "            y_pred = X @ coef\n",
    "            e = y - y_pred\n",
    "\n",
    "            # 2. Calculate gradients\n",
    "            coef_grad = (-2 / n) * X.T @ e\n",
    "\n",
    "            # 3. Adjust coefficients accordingly (using self.lr)\n",
    "            coef = coef - self.lr * coef_grad\n",
    "\n",
    "\n",
    "            if np.linalg.norm(self.lr*coef) < self.tol:\n",
    "                print(f'converged at iteration {i}')\n",
    "                convergence = True\n",
    "                break\n",
    "        if not convergence:\n",
    "                print('Warning: not converged after {self.max_iter} iterations' )\n",
    "\n",
    "        # 4. Repeat this process self.max_iter times\n",
    "\n",
    "        self.coef_ = coef[1:]\n",
    "        self.intercept_ = coef[0]\n",
    "        return self\n",
    "\n",
    "    def predict(self, X):\n",
    "        return X @ self.coef_+self.intercept_\n",
    "\n",
    "    def score(self, X, y):\n",
    "      # Loss calculations\n",
    "      y_pred = self.predict(X)\n",
    "      mse = np.mean((y - y_pred) ** 2)\n",
    "      rmse = np.sqrt(mse)\n",
    "      mae = np.mean(np.abs(y - y_pred))\n",
    "      ss_res = np.sum((y - y_pred) ** 2)\n",
    "      ss_tot = np.sum((y - np.mean(y)) ** 2)\n",
    "      r2 = 1 - (ss_res / ss_tot)\n",
    "\n",
    "      print(f\"MSE: {mse:.4f}, RMSE: {rmse:.4f}, MAE: {mae:.4f}, R²: {r2:.4f}\")\n",
    "\n",
    "\n",
    "gd = GradientDescend(lr=0.01, max_iter=1000, tol=0.001)\n",
    "gd.fit(X, y)\n"
   ],
   "id": "4137da434cbf655e",
   "outputs": [
    {
     "ename": "NameError",
     "evalue": "name 'X' is not defined",
     "output_type": "error",
     "traceback": [
      "\u001B[31m---------------------------------------------------------------------------\u001B[39m",
      "\u001B[31mNameError\u001B[39m                                 Traceback (most recent call last)",
      "\u001B[36mCell\u001B[39m\u001B[36m \u001B[39m\u001B[32mIn[2]\u001B[39m\u001B[32m, line 66\u001B[39m\n\u001B[32m     62\u001B[39m       \u001B[38;5;28mprint\u001B[39m(\u001B[33mf\u001B[39m\u001B[33m\"\u001B[39m\u001B[33mMSE: \u001B[39m\u001B[38;5;132;01m{\u001B[39;00mmse\u001B[38;5;132;01m:\u001B[39;00m\u001B[33m.4f\u001B[39m\u001B[38;5;132;01m}\u001B[39;00m\u001B[33m, RMSE: \u001B[39m\u001B[38;5;132;01m{\u001B[39;00mrmse\u001B[38;5;132;01m:\u001B[39;00m\u001B[33m.4f\u001B[39m\u001B[38;5;132;01m}\u001B[39;00m\u001B[33m, MAE: \u001B[39m\u001B[38;5;132;01m{\u001B[39;00mmae\u001B[38;5;132;01m:\u001B[39;00m\u001B[33m.4f\u001B[39m\u001B[38;5;132;01m}\u001B[39;00m\u001B[33m, R²: \u001B[39m\u001B[38;5;132;01m{\u001B[39;00mr2\u001B[38;5;132;01m:\u001B[39;00m\u001B[33m.4f\u001B[39m\u001B[38;5;132;01m}\u001B[39;00m\u001B[33m\"\u001B[39m)\n\u001B[32m     65\u001B[39m gd = GradientDescend(lr=\u001B[32m0.01\u001B[39m, max_iter=\u001B[32m1000\u001B[39m, tol=\u001B[32m0.001\u001B[39m)\n\u001B[32m---> \u001B[39m\u001B[32m66\u001B[39m gd.fit(\u001B[43mX\u001B[49m, y)\n",
      "\u001B[31mNameError\u001B[39m: name 'X' is not defined"
     ]
    }
   ],
   "execution_count": 2
  }
 ],
 "metadata": {},
 "nbformat": 4,
 "nbformat_minor": 5
}
