{
 "cells": [
  {
   "cell_type": "code",
   "id": "initial_id",
   "metadata": {
    "collapsed": true,
    "ExecuteTime": {
     "end_time": "2025-06-13T15:10:56.803948Z",
     "start_time": "2025-06-13T15:10:56.799510Z"
    }
   },
   "source": [
    "import pandas as pd\n",
    "import numpy as np"
   ],
   "outputs": [],
   "execution_count": 5
  },
  {
   "metadata": {
    "ExecuteTime": {
     "end_time": "2025-06-13T15:10:56.853479Z",
     "start_time": "2025-06-13T15:10:56.835862Z"
    }
   },
   "cell_type": "code",
   "source": [
    "# convert values  to numeric\n",
    "df = pd.read_csv(\"housing.csv\")\n",
    "df.replace({\"yes\":1, \"no\":0,\"furnished\":1,\"semi-furnished\": 0.5, \"unfurnished\":0}, inplace=True)\n",
    "df.to_csv('cleaned_data.csv', index=False)  # Save to a new file\n"
   ],
   "id": "b7e49ee29f06e9ff",
   "outputs": [
    {
     "name": "stderr",
     "output_type": "stream",
     "text": [
      "C:\\Users\\Lenovo\\AppData\\Local\\Temp\\ipykernel_4832\\2623918800.py:3: FutureWarning: Downcasting behavior in `replace` is deprecated and will be removed in a future version. To retain the old behavior, explicitly call `result.infer_objects(copy=False)`. To opt-in to the future behavior, set `pd.set_option('future.no_silent_downcasting', True)`\n",
      "  df.replace({\"yes\":1, \"no\":0,\"furnished\":1,\"semi-furnished\": 0.5, \"unfurnished\":0}, inplace=True)\n"
     ]
    }
   ],
   "execution_count": 6
  },
  {
   "metadata": {
    "ExecuteTime": {
     "end_time": "2025-06-13T15:10:56.922292Z",
     "start_time": "2025-06-13T15:10:56.917672Z"
    }
   },
   "cell_type": "code",
   "source": [
    "from sklearn.preprocessing import StandardScaler\n",
    "scaler = StandardScaler()\n"
   ],
   "id": "c3d1bb753f9a238a",
   "outputs": [],
   "execution_count": 7
  },
  {
   "metadata": {
    "ExecuteTime": {
     "end_time": "2025-06-13T15:10:56.978964Z",
     "start_time": "2025-06-13T15:10:56.966766Z"
    }
   },
   "cell_type": "code",
   "source": [
    "\n",
    "data_file = 'cleaned_data.csv'\n",
    "\n",
    "data = np.loadtxt(data_file, skiprows=1, delimiter=',')\n",
    "\n",
    "Y = data[:, 0]      # First column as target\n",
    "X = data[:, 1:]     # All columns except the first as features\n",
    "\n",
    "X = np.c_[np.ones(X.shape[0]), X] # numpy concatenation method\n",
    "\n",
    "coef = np.linalg.inv(X.T @ X) @ X.T @ Y\n",
    "\n",
    "print(f\"intercept: {coef[0]}\")\n",
    "for i, col in enumerate(df.columns[1:], start = 1):\n",
    "    print(f\"{col}:  {coef[i]}\")\n",
    "    # Testing\n",
    "# first row of cleaned data\n",
    "x0 = np.matrix([1,7420,4,2,3,1,0,0,0,1,2,1,1.0])\n",
    "price1 = x0 @ coef.T\n",
    "print(price1) # it predicted price to be  around 8.2 million dollars but it was 13.3 million\n",
    "#  Data is more complex and  using hyperplane approximation is not good option"
   ],
   "id": "7d6f58c87ec3aa16",
   "outputs": [
    {
     "name": "stdout",
     "output_type": "stream",
     "text": [
      "intercept: -324509.04986334225\n",
      "area:  243.90688726890215\n",
      "bedrooms:  119474.38646740097\n",
      "bathrooms:  988888.2873006301\n",
      "stories:  450391.5176025267\n",
      "mainroad:  423100.74115654844\n",
      "guestroom:  298030.50677958346\n",
      "basement:  357926.3600323873\n",
      "hotwaterheating:  872936.0271410331\n",
      "airconditioning:  853633.5948889744\n",
      "parking:  279785.63738587097\n",
      "prefarea:  647055.5987220607\n",
      "furnishingstatus:  426375.5629154484\n",
      "[[8201865.49940513]]\n"
     ]
    }
   ],
   "execution_count": 8
  }
 ],
 "metadata": {
  "kernelspec": {
   "display_name": "Python 3",
   "language": "python",
   "name": "python3"
  },
  "language_info": {
   "codemirror_mode": {
    "name": "ipython",
    "version": 2
   },
   "file_extension": ".py",
   "mimetype": "text/x-python",
   "name": "python",
   "nbconvert_exporter": "python",
   "pygments_lexer": "ipython2",
   "version": "2.7.6"
  }
 },
 "nbformat": 4,
 "nbformat_minor": 5
}
