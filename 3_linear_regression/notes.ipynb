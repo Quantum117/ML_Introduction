{
 "cells": [
  {
   "cell_type": "code",
   "id": "initial_id",
   "metadata": {
    "collapsed": true,
    "ExecuteTime": {
     "end_time": "2025-09-11T18:27:57.226962Z",
     "start_time": "2025-09-11T18:27:57.220871Z"
    }
   },
   "source": [
    "import numpy as np\n",
    "import pandas as pd\n",
    "import matplotlib.pyplot as plt"
   ],
   "outputs": [],
   "execution_count": 5
  },
  {
   "metadata": {},
   "cell_type": "markdown",
   "source": [
    "Pipeline = Sequence of connected processing steps where output of one step becomes input of the next\n",
    "Example: Raw Data → Data Cleaning → Feature Engineering → Model Training → Prediction → Storage\n",
    "* pipeline is sequence of several data processing components where output of one becomes input of another (input-output chain) .\n",
    " * It is called pipeline because data flows through it just like liquid flows through a pipe\n"
   ],
   "id": "33442f22abba64b0"
  },
  {
   "metadata": {},
   "cell_type": "markdown",
   "source": [
    "To evaluate regression models typically root mean square error used ( n is number of instances) :\n",
    "`L2 norm`\n",
    "$$ RMSE = \\sqrt{\\frac{1}{n}(Y-\\hat{Y})^2} $$\n",
    "If there are many outliers in the dataset then we use Mean Absolute Error `L1 norm`:\n",
    "Also called Manhatton norm\n",
    "$$ MAE = \\frac{1}{n}|Y- \\hat{Y}|$$\n",
    "\n",
    "As norm goes higer it will focus more on large values (outliers) and ignores small values"
   ],
   "id": "9b20b2973ee8762a"
  },
  {
   "metadata": {},
   "cell_type": "code",
   "outputs": [],
   "execution_count": null,
   "source": "",
   "id": "ea1defbb4de1b7a1"
  }
 ],
 "metadata": {
  "kernelspec": {
   "display_name": "Python 3",
   "language": "python",
   "name": "python3"
  },
  "language_info": {
   "codemirror_mode": {
    "name": "ipython",
    "version": 2
   },
   "file_extension": ".py",
   "mimetype": "text/x-python",
   "name": "python",
   "nbconvert_exporter": "python",
   "pygments_lexer": "ipython2",
   "version": "2.7.6"
  }
 },
 "nbformat": 4,
 "nbformat_minor": 5
}
