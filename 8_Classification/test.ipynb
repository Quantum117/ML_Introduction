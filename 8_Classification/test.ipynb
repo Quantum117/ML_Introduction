{
 "cells": [
  {
   "metadata": {
    "ExecuteTime": {
     "end_time": "2025-07-11T14:34:56.230155Z",
     "start_time": "2025-07-11T14:34:56.227183Z"
    }
   },
   "cell_type": "code",
   "source": "import numpy as np",
   "id": "a42eaebe518ffcc9",
   "outputs": [],
   "execution_count": 11
  },
  {
   "metadata": {
    "ExecuteTime": {
     "end_time": "2025-07-11T15:20:49.003986Z",
     "start_time": "2025-07-11T15:20:45.137299Z"
    }
   },
   "cell_type": "code",
   "source": [
    "import gradio as gr\n",
    "import numpy as np\n",
    "from PIL import Image\n",
    "import tensorflow as tf\n",
    "import os\n",
    "\n",
    "# Initialize model\n",
    "def create_model():\n",
    "    model = tf.keras.Sequential([\n",
    "        tf.keras.layers.Flatten(input_shape=(28, 28)),\n",
    "        tf.keras.layers.Dense(128, activation='relu'),\n",
    "        tf.keras.layers.Dense(10, activation='softmax')\n",
    "    ])\n",
    "    model.compile(optimizer='adam',\n",
    "                loss='sparse_categorical_crossentropy',\n",
    "                metrics=['accuracy'])\n",
    "    return model\n",
    "\n",
    "model = create_model()  # Replace with your trained model\n",
    "\n",
    "def process_gradio_image(img):\n",
    "    \"\"\"Handle both Sketchpad (numpy array) and Image (dict) outputs\"\"\"\n",
    "    if isinstance(img, dict):\n",
    "        img = img['image']  # Extract from dictionary if needed\n",
    "    # Convert to grayscale if RGB/RGBA\n",
    "    if len(img.shape) == 3:\n",
    "        if img.shape[2] == 4:  # RGBA\n",
    "            img = img[:, :, :3]  # Remove alpha\n",
    "        img = np.dot(img[...,:3], [0.2989, 0.5870, 0.1140])  # RGB to grayscale\n",
    "        print(\"sadhsahdsahdahdjdsadsadsadsadsada\")\n",
    "    return img\n",
    "\n",
    "def predict_digit(img):\n",
    "    img = process_gradio_image(img)\n",
    "    pred = model.predict(img)\n",
    "    return {\"Prediction\": str(np.argmax(pred)),\n",
    "           \"Confidence\": float(np.max(pred))}\n",
    "\n",
    "def save_digit(img):\n",
    "    img = process_gradio_image(img).reshape(28, 28)\n",
    "    img = (img * 255).astype(np.uint8)\n",
    "    os.makedirs(\"digits\", exist_ok=True)\n",
    "    img_path = f\"digits/digit_{len(os.listdir('digits'))}.png\"\n",
    "    Image.fromarray(img).save(img_path)\n",
    "    return f\"Saved to {img_path}\"\n"
   ],
   "id": "35e8aad1c283391c",
   "outputs": [
    {
     "name": "stderr",
     "output_type": "stream",
     "text": [
      "C:\\Users\\Lenovo\\PycharmProjects\\ML_Introduction\\.venv\\Lib\\site-packages\\keras\\src\\layers\\reshaping\\flatten.py:37: UserWarning: Do not pass an `input_shape`/`input_dim` argument to a layer. When using Sequential models, prefer using an `Input(shape)` object as the first layer in the model instead.\n",
      "  super().__init__(**kwargs)\n"
     ]
    }
   ],
   "execution_count": 3
  },
  {
   "metadata": {
    "ExecuteTime": {
     "end_time": "2025-07-11T15:07:17.513685Z",
     "start_time": "2025-07-11T15:07:17.380674Z"
    }
   },
   "cell_type": "code",
   "source": [
    "from PIL import Image\n",
    "# convert to matrix form\n",
    "matrix = np.array(Image.open(\"image7.jpg\").convert('L'))\n",
    "from helper import resize\n",
    "# change background from white to black (invert)\n",
    "inverted_image = matrix\n",
    "\n",
    "# Resize if needed (ensure it's 28x28)\n",
    "resized_image = resize(np.array(inverted_image))\n",
    "\n",
    "# Flatten and reshape\n",
    "x_input_flat = resized_image.reshape(1, -1)\n",
    "X = correct_shape_array = x_input_flat[np.newaxis, :, :]  # Shape: (1, 28, 28)\n",
    "\n",
    "\n",
    "\n",
    "# Predict\n",
    "pred = model.predict(X)\n",
    "print(pred)"
   ],
   "id": "f5b583711bf1b9a6",
   "outputs": [
    {
     "name": "stdout",
     "output_type": "stream",
     "text": [
      "\u001B[1m1/1\u001B[0m \u001B[32m━━━━━━━━━━━━━━━━━━━━\u001B[0m\u001B[37m\u001B[0m \u001B[1m0s\u001B[0m 50ms/step\n",
      "[[0. 0. 0. 0. 0. 0. 0. 1. 0. 0.]]\n"
     ]
    }
   ],
   "execution_count": 34
  },
  {
   "metadata": {
    "ExecuteTime": {
     "end_time": "2025-07-11T15:23:03.654848Z",
     "start_time": "2025-07-11T15:22:26.926764Z"
    }
   },
   "cell_type": "code",
   "source": [
    "import tkinter as tk\n",
    "from tkinter import Canvas, Button, Label, filedialog\n",
    "from PIL import Image, ImageDraw, ImageTk\n",
    "import numpy as np\n",
    "import tensorflow as tf\n",
    "\n",
    "class DigitClassifier:\n",
    "    def __init__(self, root):\n",
    "        self.root = root\n",
    "        self.root.title(\"MNIST Digit Classifier\")\n",
    "\n",
    "        # Initialize model (replace with your actual model loading)\n",
    "        self.model = model\n",
    "\n",
    "        # Drawing canvas\n",
    "        self.canvas = Canvas(root, width=280, height=280, bg='white')\n",
    "        self.canvas.pack()\n",
    "        self.canvas.bind(\"<B1-Motion>\", self.draw)\n",
    "\n",
    "        # Image drawing setup\n",
    "        self.image = Image.new(\"L\", (280, 280), 0)\n",
    "        self.draw_ref = ImageDraw.Draw(self.image)\n",
    "        self.last_x, self.last_y = None, None\n",
    "\n",
    "        # Buttons\n",
    "        self.btn_frame = tk.Frame(root)\n",
    "        self.btn_frame.pack()\n",
    "\n",
    "        self.predict_btn = Button(self.btn_frame, text=\"Predict\", command=self.predict)\n",
    "        self.predict_btn.pack(side=tk.LEFT, padx=5)\n",
    "\n",
    "        self.clear_btn = Button(self.btn_frame, text=\"Clear\", command=self.clear_canvas)\n",
    "        self.clear_btn.pack(side=tk.LEFT, padx=5)\n",
    "\n",
    "        self.upload_btn = Button(self.btn_frame, text=\"Upload\", command=self.upload_image)\n",
    "        self.upload_btn.pack(side=tk.LEFT, padx=5)\n",
    "\n",
    "        # Prediction label\n",
    "        self.prediction = Label(root, text=\"Prediction: \", font=('Arial', 18))\n",
    "        self.prediction.pack()\n",
    "\n",
    "        # Keep reference to image\n",
    "        self.tk_img = None\n",
    "\n",
    "\n",
    "\n",
    "    def draw(self, event):\n",
    "        \"\"\"Draw on canvas\"\"\"\n",
    "        x, y = event.x, event.y\n",
    "        if self.last_x and self.last_y:\n",
    "            self.canvas.create_line(self.last_x, self.last_y, x, y, width=10, capstyle=tk.ROUND, smooth=tk.TRUE)\n",
    "            self.draw_ref.line([self.last_x, self.last_y, x, y], fill=255, width=10)\n",
    "        self.last_x = x\n",
    "        self.last_y = y\n",
    "\n",
    "    def preprocess_image(self):\n",
    "        \"\"\"Convert drawing to MNIST format\"\"\"\n",
    "        img = self.image.resize((28, 28))\n",
    "        img_array = np.array(img) / 255.0\n",
    "        return np.expand_dims(img_array, axis=0)  # Add batch dimension\n",
    "\n",
    "    def predict(self):\n",
    "        \"\"\"Run prediction on drawn image\"\"\"\n",
    "        try:\n",
    "            img_array = self.preprocess_image()\n",
    "            predictions = self.model.predict(img_array)\n",
    "            digit = np.argmax(predictions)\n",
    "            confidence = np.max(predictions)\n",
    "            self.prediction.config(text=f\"Prediction: {digit} (Confidence: {confidence:.2%})\")\n",
    "        except Exception as e:\n",
    "            self.prediction.config(text=f\"Error: {str(e)}\")\n",
    "\n",
    "    def clear_canvas(self):\n",
    "        \"\"\"Clear the drawing canvas\"\"\"\n",
    "        self.canvas.delete(\"all\")\n",
    "        self.image = Image.new(\"L\", (280, 280), 0)\n",
    "        self.draw_ref = ImageDraw.Draw(self.image)\n",
    "        self.last_x, self.last_y = None, None\n",
    "        self.prediction.config(text=\"Prediction: \")\n",
    "\n",
    "    def upload_image(self):\n",
    "        \"\"\"Upload an image file\"\"\"\n",
    "        file_path = filedialog.askopenfilename(filetypes=[(\"Image files\", \"*.png;*.jpg;*.jpeg\")])\n",
    "        if file_path:\n",
    "            try:\n",
    "                img = Image.open(file_path).convert('L')\n",
    "                img = img.resize((280, 280))\n",
    "                self.image = img\n",
    "                self.draw_ref = ImageDraw.Draw(self.image)\n",
    "                self.canvas.delete(\"all\")\n",
    "                self.tk_img = ImageTk.PhotoImage(img)\n",
    "                self.canvas.create_image(0, 0, image=self.tk_img, anchor='nw')\n",
    "            except Exception as e:\n",
    "                self.prediction.config(text=f\"Upload error: {str(e)}\")\n",
    "\n",
    "if __name__ == \"__main__\":\n",
    "    root = tk.Tk()\n",
    "    app = DigitClassifier(root)\n",
    "    root.mainloop()"
   ],
   "id": "92cc1caf463882c",
   "outputs": [
    {
     "name": "stdout",
     "output_type": "stream",
     "text": [
      "\u001B[1m1/1\u001B[0m \u001B[32m━━━━━━━━━━━━━━━━━━━━\u001B[0m\u001B[37m\u001B[0m \u001B[1m0s\u001B[0m 56ms/step\n",
      "\u001B[1m1/1\u001B[0m \u001B[32m━━━━━━━━━━━━━━━━━━━━\u001B[0m\u001B[37m\u001B[0m \u001B[1m0s\u001B[0m 45ms/step\n",
      "\u001B[1m1/1\u001B[0m \u001B[32m━━━━━━━━━━━━━━━━━━━━\u001B[0m\u001B[37m\u001B[0m \u001B[1m0s\u001B[0m 46ms/step\n",
      "\u001B[1m1/1\u001B[0m \u001B[32m━━━━━━━━━━━━━━━━━━━━\u001B[0m\u001B[37m\u001B[0m \u001B[1m0s\u001B[0m 45ms/step\n",
      "\u001B[1m1/1\u001B[0m \u001B[32m━━━━━━━━━━━━━━━━━━━━\u001B[0m\u001B[37m\u001B[0m \u001B[1m0s\u001B[0m 44ms/step\n",
      "\u001B[1m1/1\u001B[0m \u001B[32m━━━━━━━━━━━━━━━━━━━━\u001B[0m\u001B[37m\u001B[0m \u001B[1m0s\u001B[0m 41ms/step\n",
      "\u001B[1m1/1\u001B[0m \u001B[32m━━━━━━━━━━━━━━━━━━━━\u001B[0m\u001B[37m\u001B[0m \u001B[1m0s\u001B[0m 48ms/step\n",
      "\u001B[1m1/1\u001B[0m \u001B[32m━━━━━━━━━━━━━━━━━━━━\u001B[0m\u001B[37m\u001B[0m \u001B[1m0s\u001B[0m 43ms/step\n"
     ]
    }
   ],
   "execution_count": 5
  }
 ],
 "metadata": {},
 "nbformat": 4,
 "nbformat_minor": 5
}
